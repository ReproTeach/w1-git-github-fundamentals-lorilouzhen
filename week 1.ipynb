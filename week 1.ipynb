{
 "cells": [
  {
   "cell_type": "markdown",
   "id": "bb2d9bbd-159b-42bb-81f5-92d4f63d0722",
   "metadata": {},
   "source": [
    "# Comm 160ds\n",
    "## Thursday"
   ]
  },
  {
   "cell_type": "code",
   "execution_count": null,
   "id": "7b42b6f9-ba03-4f14-862f-7be4d5012bc2",
   "metadata": {},
   "outputs": [],
   "source": []
  }
 ],
 "metadata": {
  "kernelspec": {
   "display_name": "Python 3 (ipykernel)",
   "language": "python",
   "name": "python3"
  },
  "language_info": {
   "codemirror_mode": {
    "name": "ipython",
    "version": 3
   },
   "file_extension": ".py",
   "mimetype": "text/x-python",
   "name": "python",
   "nbconvert_exporter": "python",
   "pygments_lexer": "ipython3",
   "version": "3.10.9"
  }
 },
 "nbformat": 4,
 "nbformat_minor": 5
}
